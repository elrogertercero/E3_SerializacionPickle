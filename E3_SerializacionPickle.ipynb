{
 "cells": [
  {
   "cell_type": "markdown",
   "id": "52df5771",
   "metadata": {},
   "source": [
    "\n",
    "# Ejercicio 3: Pickle\n",
    "\n",
    "Elaborar un programa que contenga un programa que serialice a pickle un objeto, y que lo almacene en un archivo binario de extensión pickle. Debe ser posible la recuperación del contenido del archivo, mismo que debe poderse deserializarse, y obtener el objeto original."
   ]
  },
  {
   "cell_type": "code",
   "execution_count": 1,
   "id": "208c7209",
   "metadata": {},
   "outputs": [
    {
     "name": "stdout",
     "output_type": "stream",
     "text": [
      "Objeto serializado y guardado en mi_objeto.pkl\n",
      "\n",
      "Objeto original:\n",
      "{'nombre': 'Ejemplo', 'edad': 25}\n",
      "\n",
      "Objeto deserializado:\n",
      "{'nombre': 'Ejemplo', 'edad': 25}\n"
     ]
    }
   ],
   "source": [
    "import pickle\n",
    "\n",
    "# Se define una clase simple para serializar\n",
    "class MiObjeto:\n",
    "    def __init__(self, nombre, edad):\n",
    "        self.nombre = nombre\n",
    "        self.edad = edad\n",
    "\n",
    "# Se crea una función para serializar el objeto y guardarlo en un archivo pickle\n",
    "def serializar_objeto(objeto, nombre_archivo):\n",
    "    with open(nombre_archivo, 'wb') as archivo:\n",
    "        pickle.dump(objeto, archivo)\n",
    "    print(f\"Objeto serializado y guardado en {nombre_archivo}\")\n",
    "\n",
    "# Se crea una función para deserializar el objeto desde un archivo pickle\n",
    "def deserializar_objeto(nombre_archivo):\n",
    "    with open(nombre_archivo, 'rb') as archivo:\n",
    "        objeto = pickle.load(archivo)\n",
    "    return objeto\n",
    "\n",
    "# Se crea un objeto para serializar\n",
    "mi_objeto_original = MiObjeto(nombre=\"Ejemplo\", edad=25)\n",
    "\n",
    "# Nombre del archivo donde se guardará el objeto serializado\n",
    "archivo_pickle = \"mi_objeto.pkl\"\n",
    "\n",
    "# Serializar y guardar el objeto en un archivo pickle\n",
    "serializar_objeto(mi_objeto_original, archivo_pickle)\n",
    "\n",
    "# Deserializar el objeto desde el archivo pickle\n",
    "mi_objeto_recuperado = deserializar_objeto(archivo_pickle)\n",
    "\n",
    "# Verificar que el objeto deserializado es igual al original\n",
    "print(\"\\nObjeto original:\")\n",
    "print(mi_objeto_original.__dict__)\n",
    "\n",
    "print(\"\\nObjeto deserializado:\")\n",
    "print(mi_objeto_recuperado.__dict__)\n"
   ]
  }
 ],
 "metadata": {
  "kernelspec": {
   "display_name": "Python 3 (ipykernel)",
   "language": "python",
   "name": "python3"
  },
  "language_info": {
   "codemirror_mode": {
    "name": "ipython",
    "version": 3
   },
   "file_extension": ".py",
   "mimetype": "text/x-python",
   "name": "python",
   "nbconvert_exporter": "python",
   "pygments_lexer": "ipython3",
   "version": "3.11.5"
  }
 },
 "nbformat": 4,
 "nbformat_minor": 5
}
